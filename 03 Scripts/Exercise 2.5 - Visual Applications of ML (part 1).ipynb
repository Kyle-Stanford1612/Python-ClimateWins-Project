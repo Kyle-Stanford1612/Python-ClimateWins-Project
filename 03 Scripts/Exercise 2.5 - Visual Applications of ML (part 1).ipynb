{
 "cells": [
  {
   "cell_type": "markdown",
   "id": "18ef27c2-cdc4-4085-be05-895e733a338a",
   "metadata": {},
   "source": [
    "# Exercise 2.5 - Visual Applications of Machine Learning (Part 1)"
   ]
  },
  {
   "cell_type": "markdown",
   "id": "fb83b6fe-abfa-4848-ad91-973768b30436",
   "metadata": {},
   "source": [
    "This script contains code for Exercise 2.5 part 1 - Handwriting Recognition. The structure is:\n",
    "\n",
    "1. Importing Libraries and Data\n",
    "2. Check and Reshape Data\n",
    "3. Constructing and Training the Model\n",
    "4. Testing the Model\n",
    "5. Loading Preprocessing Handwritten Images for Model Prediction (Attempt 1)\n",
    "6. Running the Model on Handwritten Images (Attempt 1)\n",
    "7. Loading Preprocessing Handwritten Images for Model Prediction (Attempt 2)\n",
    "8. Running the Model on Handwritten Images (Attempt 1)"
   ]
  },
  {
   "cell_type": "markdown",
   "id": "c48eeec7-756d-49b9-b5c0-4585fb7c6ab1",
   "metadata": {},
   "source": [
    "## 1. Importing Libraries and Data"
   ]
  },
  {
   "cell_type": "code",
   "execution_count": 1,
   "id": "3ec95365-1827-4a19-9c63-66552befd494",
   "metadata": {},
   "outputs": [],
   "source": [
    "import pandas as pd\n",
    "import numpy as np\n",
    "import seaborn as sns\n",
    "import os\n",
    "import operator\n",
    "import matplotlib.pyplot as plt\n",
    "from sklearn.preprocessing import LabelEncoder\n",
    "from sklearn.metrics import confusion_matrix\n",
    "import tensorflow as tf\n",
    "from numpy import unique\n",
    "from numpy import reshape\n",
    "from keras.models import Sequential\n",
    "from keras.layers import Conv1D, Conv2D, Dense, BatchNormalization, Flatten, MaxPooling2D, Activation, Dropout\n",
    "from keras.utils import to_categorical\n",
    "from keras.datasets import mnist\n",
    "from numpy import argmax\n",
    "from PIL import Image\n",
    "from numpy import asarray"
   ]
  },
  {
   "cell_type": "code",
   "execution_count": 2,
   "id": "f9c6c800-7cf3-4ecb-a7ec-9251025ad43d",
   "metadata": {},
   "outputs": [],
   "source": [
    "tf.random.set_seed(42)"
   ]
  },
  {
   "cell_type": "code",
   "execution_count": 3,
   "id": "940e1d48-7f19-497f-a87e-be4e8bbad17c",
   "metadata": {},
   "outputs": [],
   "source": [
    "# Load images of handwriten numbers from MNIST (Modified National Institute of Standards and Technology) module\n",
    "hand = mnist.load_data()"
   ]
  },
  {
   "cell_type": "markdown",
   "id": "5f7168ee-b4d2-40e2-8fd8-f7d46862f9a2",
   "metadata": {},
   "source": [
    "## 2. Check and Reshape Data"
   ]
  },
  {
   "cell_type": "code",
   "execution_count": 4,
   "id": "4ce1ee30-3c41-4ff3-9dfc-51af36b355b6",
   "metadata": {},
   "outputs": [
    {
     "data": {
      "text/plain": [
       "(array([[[0, 0, 0, ..., 0, 0, 0],\n",
       "         [0, 0, 0, ..., 0, 0, 0],\n",
       "         [0, 0, 0, ..., 0, 0, 0],\n",
       "         ...,\n",
       "         [0, 0, 0, ..., 0, 0, 0],\n",
       "         [0, 0, 0, ..., 0, 0, 0],\n",
       "         [0, 0, 0, ..., 0, 0, 0]],\n",
       " \n",
       "        [[0, 0, 0, ..., 0, 0, 0],\n",
       "         [0, 0, 0, ..., 0, 0, 0],\n",
       "         [0, 0, 0, ..., 0, 0, 0],\n",
       "         ...,\n",
       "         [0, 0, 0, ..., 0, 0, 0],\n",
       "         [0, 0, 0, ..., 0, 0, 0],\n",
       "         [0, 0, 0, ..., 0, 0, 0]],\n",
       " \n",
       "        [[0, 0, 0, ..., 0, 0, 0],\n",
       "         [0, 0, 0, ..., 0, 0, 0],\n",
       "         [0, 0, 0, ..., 0, 0, 0],\n",
       "         ...,\n",
       "         [0, 0, 0, ..., 0, 0, 0],\n",
       "         [0, 0, 0, ..., 0, 0, 0],\n",
       "         [0, 0, 0, ..., 0, 0, 0]],\n",
       " \n",
       "        ...,\n",
       " \n",
       "        [[0, 0, 0, ..., 0, 0, 0],\n",
       "         [0, 0, 0, ..., 0, 0, 0],\n",
       "         [0, 0, 0, ..., 0, 0, 0],\n",
       "         ...,\n",
       "         [0, 0, 0, ..., 0, 0, 0],\n",
       "         [0, 0, 0, ..., 0, 0, 0],\n",
       "         [0, 0, 0, ..., 0, 0, 0]],\n",
       " \n",
       "        [[0, 0, 0, ..., 0, 0, 0],\n",
       "         [0, 0, 0, ..., 0, 0, 0],\n",
       "         [0, 0, 0, ..., 0, 0, 0],\n",
       "         ...,\n",
       "         [0, 0, 0, ..., 0, 0, 0],\n",
       "         [0, 0, 0, ..., 0, 0, 0],\n",
       "         [0, 0, 0, ..., 0, 0, 0]],\n",
       " \n",
       "        [[0, 0, 0, ..., 0, 0, 0],\n",
       "         [0, 0, 0, ..., 0, 0, 0],\n",
       "         [0, 0, 0, ..., 0, 0, 0],\n",
       "         ...,\n",
       "         [0, 0, 0, ..., 0, 0, 0],\n",
       "         [0, 0, 0, ..., 0, 0, 0],\n",
       "         [0, 0, 0, ..., 0, 0, 0]]], dtype=uint8),\n",
       " array([5, 0, 4, ..., 5, 6, 8], dtype=uint8))"
      ]
     },
     "execution_count": 4,
     "metadata": {},
     "output_type": "execute_result"
    }
   ],
   "source": [
    "# Check the data (hand[0] contains the training data and corresponding labels)\n",
    "hand[0]"
   ]
  },
  {
   "cell_type": "code",
   "execution_count": 5,
   "id": "fc43eb4f-77bd-4403-98e5-909a0494abaa",
   "metadata": {},
   "outputs": [],
   "source": [
    "# Unpack the data loaded from the MNIST dataset\n",
    "(X_train, y_train), (X_test, y_test) = hand"
   ]
  },
  {
   "cell_type": "code",
   "execution_count": 6,
   "id": "d0867abe-4c44-4400-aaea-cb980f5e45b2",
   "metadata": {},
   "outputs": [],
   "source": [
    "np.set_printoptions(edgeitems=3)\n",
    "np.core.arrayprint._line_width = 180000"
   ]
  },
  {
   "cell_type": "code",
   "execution_count": 7,
   "id": "c850d7fc-817d-43df-bb66-dd1028bba3b6",
   "metadata": {},
   "outputs": [
    {
     "data": {
      "text/plain": [
       "array([[  0,   0,   0,   0,   0,   0,   0,   0,   0,   0,   0,   0,   0,\n",
       "          0,   0,   0,   0,   0,   0,   0,   0,   0,   0,   0,   0,   0,\n",
       "          0,   0],\n",
       "       [  0,   0,   0,   0,   0,   0,   0,   0,   0,   0,   0,   0,   0,\n",
       "          0,   0,   0,   0,   0,   0,   0,   0,   0,   0,   0,   0,   0,\n",
       "          0,   0],\n",
       "       [  0,   0,   0,   0,   0,   0,   0,   0,   0,   0,   0,   0,   0,\n",
       "          0,   0,   0,   0,   0,   0,   0,   0,   0,   0,   0,   0,   0,\n",
       "          0,   0],\n",
       "       [  0,   0,   0,   0,   0,   0,   0,   0,   0,   0,   0,   0,   0,\n",
       "          0,   0,   0,   0,   0,   0,   0,   0,   0,   0,   0,   0,   0,\n",
       "          0,   0],\n",
       "       [  0,   0,   0,   0,   0,   0,   0,   0,   0,   0,   0,   0,   0,\n",
       "          0,   0,   0,   0,   0,   0,   0,   0,   0,   0,   0,   0,   0,\n",
       "          0,   0],\n",
       "       [  0,   0,   0,   0,   0,   0,   0,   0,   0,   0,   0,   0,   3,\n",
       "         18,  18,  18, 126, 136, 175,  26, 166, 255, 247, 127,   0,   0,\n",
       "          0,   0],\n",
       "       [  0,   0,   0,   0,   0,   0,   0,   0,  30,  36,  94, 154, 170,\n",
       "        253, 253, 253, 253, 253, 225, 172, 253, 242, 195,  64,   0,   0,\n",
       "          0,   0],\n",
       "       [  0,   0,   0,   0,   0,   0,   0,  49, 238, 253, 253, 253, 253,\n",
       "        253, 253, 253, 253, 251,  93,  82,  82,  56,  39,   0,   0,   0,\n",
       "          0,   0],\n",
       "       [  0,   0,   0,   0,   0,   0,   0,  18, 219, 253, 253, 253, 253,\n",
       "        253, 198, 182, 247, 241,   0,   0,   0,   0,   0,   0,   0,   0,\n",
       "          0,   0],\n",
       "       [  0,   0,   0,   0,   0,   0,   0,   0,  80, 156, 107, 253, 253,\n",
       "        205,  11,   0,  43, 154,   0,   0,   0,   0,   0,   0,   0,   0,\n",
       "          0,   0],\n",
       "       [  0,   0,   0,   0,   0,   0,   0,   0,   0,  14,   1, 154, 253,\n",
       "         90,   0,   0,   0,   0,   0,   0,   0,   0,   0,   0,   0,   0,\n",
       "          0,   0],\n",
       "       [  0,   0,   0,   0,   0,   0,   0,   0,   0,   0,   0, 139, 253,\n",
       "        190,   2,   0,   0,   0,   0,   0,   0,   0,   0,   0,   0,   0,\n",
       "          0,   0],\n",
       "       [  0,   0,   0,   0,   0,   0,   0,   0,   0,   0,   0,  11, 190,\n",
       "        253,  70,   0,   0,   0,   0,   0,   0,   0,   0,   0,   0,   0,\n",
       "          0,   0],\n",
       "       [  0,   0,   0,   0,   0,   0,   0,   0,   0,   0,   0,   0,  35,\n",
       "        241, 225, 160, 108,   1,   0,   0,   0,   0,   0,   0,   0,   0,\n",
       "          0,   0],\n",
       "       [  0,   0,   0,   0,   0,   0,   0,   0,   0,   0,   0,   0,   0,\n",
       "         81, 240, 253, 253, 119,  25,   0,   0,   0,   0,   0,   0,   0,\n",
       "          0,   0],\n",
       "       [  0,   0,   0,   0,   0,   0,   0,   0,   0,   0,   0,   0,   0,\n",
       "          0,  45, 186, 253, 253, 150,  27,   0,   0,   0,   0,   0,   0,\n",
       "          0,   0],\n",
       "       [  0,   0,   0,   0,   0,   0,   0,   0,   0,   0,   0,   0,   0,\n",
       "          0,   0,  16,  93, 252, 253, 187,   0,   0,   0,   0,   0,   0,\n",
       "          0,   0],\n",
       "       [  0,   0,   0,   0,   0,   0,   0,   0,   0,   0,   0,   0,   0,\n",
       "          0,   0,   0,   0, 249, 253, 249,  64,   0,   0,   0,   0,   0,\n",
       "          0,   0],\n",
       "       [  0,   0,   0,   0,   0,   0,   0,   0,   0,   0,   0,   0,   0,\n",
       "          0,  46, 130, 183, 253, 253, 207,   2,   0,   0,   0,   0,   0,\n",
       "          0,   0],\n",
       "       [  0,   0,   0,   0,   0,   0,   0,   0,   0,   0,   0,   0,  39,\n",
       "        148, 229, 253, 253, 253, 250, 182,   0,   0,   0,   0,   0,   0,\n",
       "          0,   0],\n",
       "       [  0,   0,   0,   0,   0,   0,   0,   0,   0,   0,  24, 114, 221,\n",
       "        253, 253, 253, 253, 201,  78,   0,   0,   0,   0,   0,   0,   0,\n",
       "          0,   0],\n",
       "       [  0,   0,   0,   0,   0,   0,   0,   0,  23,  66, 213, 253, 253,\n",
       "        253, 253, 198,  81,   2,   0,   0,   0,   0,   0,   0,   0,   0,\n",
       "          0,   0],\n",
       "       [  0,   0,   0,   0,   0,   0,  18, 171, 219, 253, 253, 253, 253,\n",
       "        195,  80,   9,   0,   0,   0,   0,   0,   0,   0,   0,   0,   0,\n",
       "          0,   0],\n",
       "       [  0,   0,   0,   0,  55, 172, 226, 253, 253, 253, 253, 244, 133,\n",
       "         11,   0,   0,   0,   0,   0,   0,   0,   0,   0,   0,   0,   0,\n",
       "          0,   0],\n",
       "       [  0,   0,   0,   0, 136, 253, 253, 253, 212, 135, 132,  16,   0,\n",
       "          0,   0,   0,   0,   0,   0,   0,   0,   0,   0,   0,   0,   0,\n",
       "          0,   0],\n",
       "       [  0,   0,   0,   0,   0,   0,   0,   0,   0,   0,   0,   0,   0,\n",
       "          0,   0,   0,   0,   0,   0,   0,   0,   0,   0,   0,   0,   0,\n",
       "          0,   0],\n",
       "       [  0,   0,   0,   0,   0,   0,   0,   0,   0,   0,   0,   0,   0,\n",
       "          0,   0,   0,   0,   0,   0,   0,   0,   0,   0,   0,   0,   0,\n",
       "          0,   0],\n",
       "       [  0,   0,   0,   0,   0,   0,   0,   0,   0,   0,   0,   0,   0,\n",
       "          0,   0,   0,   0,   0,   0,   0,   0,   0,   0,   0,   0,   0,\n",
       "          0,   0]], dtype=uint8)"
      ]
     },
     "execution_count": 7,
     "metadata": {},
     "output_type": "execute_result"
    }
   ],
   "source": [
    "# Shows the 2D Numpy array for the first image in the dataset - organised in 28 rows of 28 values (Like the 28x28 pixels of the image)\n",
    "X_train[0]"
   ]
  },
  {
   "cell_type": "code",
   "execution_count": 8,
   "id": "6f3730ef-ee6e-48b7-8619-dc5e9bd25ab1",
   "metadata": {},
   "outputs": [
    {
     "name": "stdout",
     "output_type": "stream",
     "text": [
      "(60000, 28, 28) (60000,)\n",
      "(10000, 28, 28) (10000,)\n"
     ]
    }
   ],
   "source": [
    "print(X_train.shape, y_train.shape)\n",
    "print(X_test.shape, y_test.shape)"
   ]
  },
  {
   "cell_type": "code",
   "execution_count": 9,
   "id": "9f55e391-2972-4d4e-8780-8eb1ea63c58c",
   "metadata": {},
   "outputs": [
    {
     "data": {
      "text/plain": [
       "array([5, 0, 4, ..., 5, 6, 8], dtype=uint8)"
      ]
     },
     "execution_count": 9,
     "metadata": {},
     "output_type": "execute_result"
    }
   ],
   "source": [
    "# Shows the labels for the full training dataset (not one-hot encoded)\n",
    "y_train"
   ]
  },
  {
   "cell_type": "code",
   "execution_count": 10,
   "id": "730938b8-de44-4200-919e-c4395d946f17",
   "metadata": {},
   "outputs": [
    {
     "data": {
      "text/plain": [
       "<matplotlib.image.AxesImage at 0x16d5ccb83d0>"
      ]
     },
     "execution_count": 10,
     "metadata": {},
     "output_type": "execute_result"
    },
    {
     "data": {
      "image/png": "[encoded data removed]",
      "text/plain": [
       "<Figure size 640x480 with 1 Axes>"
      ]
     },
     "metadata": {},
     "output_type": "display_data"
    }
   ],
   "source": [
    "plt.imshow(X_train[0])"
   ]
  },
  {
   "cell_type": "code",
   "execution_count": 11,
   "id": "c8212b07-8ab5-484b-b984-e641e993c5db",
   "metadata": {},
   "outputs": [
    {
     "data": {
      "image/png": "[encoded data removed]",
      "text/plain": [
       "<Figure size 750x1000 with 25 Axes>"
      ]
     },
     "metadata": {},
     "output_type": "display_data"
    }
   ],
   "source": [
    "# The following shows the first 25 images and corresponding labels of the training dataset (good way to quickly check the data)\n",
    "num = 25\n",
    "images = X_train[:num]\n",
    "labels = y_train[:num]\n",
    "\n",
    "num_row = 5\n",
    "num_col = 5\n",
    "# plot images\n",
    "fig, axes = plt.subplots(num_row, num_col, figsize=(1.5*num_col,2*num_row))\n",
    "for i in range(num):\n",
    "    ax = axes[i//num_col, i%num_col]\n",
    "    ax.imshow(images[i])#, cmap='gray')\n",
    "    ax.set_title('Label: {}'.format(labels[i]))\n",
    "plt.tight_layout()\n",
    "plt.show()"
   ]
  },
  {
   "cell_type": "code",
   "execution_count": 12,
   "id": "e4826d1b-01d4-4052-9f54-5cc5598cf557",
   "metadata": {},
   "outputs": [],
   "source": [
    "# Preprocess input data (Reshape)\n",
    "X_train = X_train.reshape(X_train.shape[0], 28, 28, 1) # Final 1 ensures the algorithm treats each array as its own set of information\n",
    "X_test = X_test.reshape(X_test.shape[0], 28, 28, 1)"
   ]
  },
  {
   "cell_type": "code",
   "execution_count": 13,
   "id": "ef585b30-b763-4761-bbc0-d5907c4cb3e3",
   "metadata": {},
   "outputs": [],
   "source": [
    "# Change data to float values to ensure it can be dividied\n",
    "X_train = X_train.astype('float32')\n",
    "X_test = X_test.astype('float32')"
   ]
  },
  {
   "cell_type": "code",
   "execution_count": 14,
   "id": "09126b42-c452-4656-9c4e-7d335a37531c",
   "metadata": {},
   "outputs": [],
   "source": [
    "# Normalise the data around 1 (divide by 255 because the pixels have a value range of 255)\n",
    "X_train /= 255\n",
    "X_test /= 255"
   ]
  },
  {
   "cell_type": "code",
   "execution_count": 15,
   "id": "0ef11c10-b219-4685-b228-891558cd23db",
   "metadata": {},
   "outputs": [],
   "source": [
    "# 6. Preprocess class labels\n",
    "Y_train = to_categorical(y_train, num_classes=10) # num_classes equals 10 since there are 10 possible values (0-9)\n",
    "Y_test = to_categorical(y_test, num_classes=10)"
   ]
  },
  {
   "cell_type": "code",
   "execution_count": 16,
   "id": "e06a116f-7542-4c47-a423-f64867e2c8d4",
   "metadata": {},
   "outputs": [
    {
     "data": {
      "text/plain": [
       "array([[0., 0., 0., ..., 0., 0., 0.],\n",
       "       [1., 0., 0., ..., 0., 0., 0.],\n",
       "       [0., 0., 0., ..., 0., 0., 0.],\n",
       "       ...,\n",
       "       [0., 0., 0., ..., 0., 0., 0.],\n",
       "       [0., 0., 0., ..., 0., 0., 0.],\n",
       "       [0., 0., 0., ..., 0., 1., 0.]])"
      ]
     },
     "execution_count": 16,
     "metadata": {},
     "output_type": "execute_result"
    }
   ],
   "source": [
    "Y_train"
   ]
  },
  {
   "cell_type": "code",
   "execution_count": 17,
   "id": "ce00bb64-9a9e-41d2-8547-c1e98e748571",
   "metadata": {},
   "outputs": [
    {
     "name": "stdout",
     "output_type": "stream",
     "text": [
      "Photo  0 :   in one-hot representation:  [0 0 0 0 0 1 0 0 0 0]\n",
      "Photo  1 :   in one-hot representation:  [1 0 0 0 0 0 0 0 0 0]\n",
      "Photo  2 :   in one-hot representation:  [0 0 0 0 1 0 0 0 0 0]\n",
      "Photo  3 :   in one-hot representation:  [0 1 0 0 0 0 0 0 0 0]\n",
      "Photo  4 :   in one-hot representation:  [0 0 0 0 0 0 0 0 0 1]\n",
      "Photo  5 :   in one-hot representation:  [0 0 1 0 0 0 0 0 0 0]\n",
      "Photo  6 :   in one-hot representation:  [0 1 0 0 0 0 0 0 0 0]\n",
      "Photo  7 :   in one-hot representation:  [0 0 0 1 0 0 0 0 0 0]\n",
      "Photo  8 :   in one-hot representation:  [0 1 0 0 0 0 0 0 0 0]\n",
      "Photo  9 :   in one-hot representation:  [0 0 0 0 1 0 0 0 0 0]\n",
      "Photo  10 :   in one-hot representation:  [0 0 0 1 0 0 0 0 0 0]\n",
      "Photo  11 :   in one-hot representation:  [0 0 0 0 0 1 0 0 0 0]\n",
      "Photo  12 :   in one-hot representation:  [0 0 0 1 0 0 0 0 0 0]\n",
      "Photo  13 :   in one-hot representation:  [0 0 0 0 0 0 1 0 0 0]\n",
      "Photo  14 :   in one-hot representation:  [0 1 0 0 0 0 0 0 0 0]\n",
      "Photo  15 :   in one-hot representation:  [0 0 0 0 0 0 0 1 0 0]\n",
      "Photo  16 :   in one-hot representation:  [0 0 1 0 0 0 0 0 0 0]\n",
      "Photo  17 :   in one-hot representation:  [0 0 0 0 0 0 0 0 1 0]\n",
      "Photo  18 :   in one-hot representation:  [0 0 0 0 0 0 1 0 0 0]\n",
      "Photo  19 :   in one-hot representation:  [0 0 0 0 0 0 0 0 0 1]\n",
      "Photo  20 :   in one-hot representation:  [0 0 0 0 1 0 0 0 0 0]\n",
      "Photo  21 :   in one-hot representation:  [1 0 0 0 0 0 0 0 0 0]\n",
      "Photo  22 :   in one-hot representation:  [0 0 0 0 0 0 0 0 0 1]\n",
      "Photo  23 :   in one-hot representation:  [0 1 0 0 0 0 0 0 0 0]\n",
      "Photo  24 :   in one-hot representation:  [0 1 0 0 0 0 0 0 0 0]\n"
     ]
    }
   ],
   "source": [
    "# Check the one-hot encoding matches with the previous 25 images printed\n",
    "for photo in range(25):\n",
    "    one_hot = (Y_train[photo]).astype(np.int32)\n",
    "    print(\"Photo \", photo, \": \", \" in one-hot representation: \", one_hot)"
   ]
  },
  {
   "cell_type": "markdown",
   "id": "a642e2da-6ae1-476e-ab8c-2bd923a3c62d",
   "metadata": {},
   "source": [
    "## 3. Constructing and Training Model"
   ]
  },
  {
   "cell_type": "code",
   "execution_count": 18,
   "id": "d64650bc-ec48-442c-a08a-caeb03adae6d",
   "metadata": {},
   "outputs": [
    {
     "name": "stderr",
     "output_type": "stream",
     "text": [
      "C:\\Users\\kyles\\anaconda3\\Lib\\site-packages\\keras\\src\\layers\\convolutional\\base_conv.py:107: UserWarning: Do not pass an `input_shape`/`input_dim` argument to a layer. When using Sequential models, prefer using an `Input(shape)` object as the first layer in the model instead.\n",
      "  super().__init__(activity_regularizer=activity_regularizer, **kwargs)\n"
     ]
    }
   ],
   "source": [
    "# Construct CNN model\n",
    "epochs = 30\n",
    "batch_size = 16\n",
    "n_hidden = 32\n",
    "\n",
    "# timesteps = len(X_train[0])\n",
    "# input_dim = len(X_train[0][0])\n",
    "# n_classes = _count_classes(Y_train)\n",
    "\n",
    "# Define model architecture\n",
    "model = Sequential()\n",
    " \n",
    "model.add(Conv2D(32, (3,3), activation='relu', input_shape=(28,28,1)))\n",
    "model.add(Conv2D(32, (3,3), activation='relu'))\n",
    "model.add(MaxPooling2D(pool_size=(2,2)))\n",
    "model.add(Dropout(0.25))\n",
    " \n",
    "model.add(Flatten())\n",
    "model.add(Dense(128, activation='relu'))\n",
    "model.add(Dropout(0.5))\n",
    "model.add(Dense(10, activation='softmax'))\n",
    " \n",
    "# Compile model\n",
    "model.compile(loss='categorical_crossentropy', optimizer='adam', metrics=['accuracy'])"
   ]
  },
  {
   "cell_type": "code",
   "execution_count": 19,
   "id": "fa5c533a-91b8-4b04-8028-11aaf52c7d06",
   "metadata": {},
   "outputs": [
    {
     "name": "stdout",
     "output_type": "stream",
     "text": [
      "Epoch 1/10\n",
      "\u001b[1m1875/1875\u001b[0m \u001b[32m━━━━━━━━━━━━━━━━━━━━\u001b[0m\u001b[37m\u001b[0m \u001b[1m21s\u001b[0m 10ms/step - accuracy: 0.8675 - loss: 0.4173\n",
      "Epoch 2/10\n",
      "\u001b[1m1875/1875\u001b[0m \u001b[32m━━━━━━━━━━━━━━━━━━━━\u001b[0m\u001b[37m\u001b[0m \u001b[1m21s\u001b[0m 11ms/step - accuracy: 0.9731 - loss: 0.0901\n",
      "Epoch 3/10\n",
      "\u001b[1m1875/1875\u001b[0m \u001b[32m━━━━━━━━━━━━━━━━━━━━\u001b[0m\u001b[37m\u001b[0m \u001b[1m20s\u001b[0m 11ms/step - accuracy: 0.9793 - loss: 0.0665\n",
      "Epoch 4/10\n",
      "\u001b[1m1875/1875\u001b[0m \u001b[32m━━━━━━━━━━━━━━━━━━━━\u001b[0m\u001b[37m\u001b[0m \u001b[1m20s\u001b[0m 11ms/step - accuracy: 0.9823 - loss: 0.0586\n",
      "Epoch 5/10\n",
      "\u001b[1m1875/1875\u001b[0m \u001b[32m━━━━━━━━━━━━━━━━━━━━\u001b[0m\u001b[37m\u001b[0m \u001b[1m21s\u001b[0m 11ms/step - accuracy: 0.9867 - loss: 0.0448\n",
      "Epoch 6/10\n",
      "\u001b[1m1875/1875\u001b[0m \u001b[32m━━━━━━━━━━━━━━━━━━━━\u001b[0m\u001b[37m\u001b[0m \u001b[1m20s\u001b[0m 11ms/step - accuracy: 0.9870 - loss: 0.0434\n",
      "Epoch 7/10\n",
      "\u001b[1m1875/1875\u001b[0m \u001b[32m━━━━━━━━━━━━━━━━━━━━\u001b[0m\u001b[37m\u001b[0m \u001b[1m20s\u001b[0m 11ms/step - accuracy: 0.9885 - loss: 0.0380\n",
      "Epoch 8/10\n",
      "\u001b[1m1875/1875\u001b[0m \u001b[32m━━━━━━━━━━━━━━━━━━━━\u001b[0m\u001b[37m\u001b[0m \u001b[1m21s\u001b[0m 11ms/step - accuracy: 0.9900 - loss: 0.0318\n",
      "Epoch 9/10\n",
      "\u001b[1m1875/1875\u001b[0m \u001b[32m━━━━━━━━━━━━━━━━━━━━\u001b[0m\u001b[37m\u001b[0m \u001b[1m21s\u001b[0m 11ms/step - accuracy: 0.9906 - loss: 0.0308\n",
      "Epoch 10/10\n",
      "\u001b[1m1875/1875\u001b[0m \u001b[32m━━━━━━━━━━━━━━━━━━━━\u001b[0m\u001b[37m\u001b[0m \u001b[1m21s\u001b[0m 11ms/step - accuracy: 0.9909 - loss: 0.0292\n"
     ]
    },
    {
     "data": {
      "text/plain": [
       "<keras.src.callbacks.history.History at 0x16d61f3af10>"
      ]
     },
     "execution_count": 19,
     "metadata": {},
     "output_type": "execute_result"
    }
   ],
   "source": [
    "# Fit model on training data\n",
    "model.fit(X_train, Y_train, batch_size=32, epochs=10, verbose=1)"
   ]
  },
  {
   "cell_type": "markdown",
   "id": "60409927-719f-47b2-8638-f7cb030b62c5",
   "metadata": {},
   "source": [
    "## 4. Testing the Model"
   ]
  },
  {
   "cell_type": "code",
   "execution_count": 20,
   "id": "922add6f-7095-4318-bfed-f4298f6b098e",
   "metadata": {},
   "outputs": [
    {
     "name": "stdout",
     "output_type": "stream",
     "text": [
      "313/313 - 1s - 5ms/step - accuracy: 0.9913 - loss: 0.0331\n"
     ]
    }
   ],
   "source": [
    "# Evaluate model on test data\n",
    "score = model.evaluate(X_test, Y_test, verbose=2)"
   ]
  },
  {
   "cell_type": "code",
   "execution_count": 21,
   "id": "5d863aef-9228-42ef-b8c6-df4e8497b61c",
   "metadata": {},
   "outputs": [
    {
     "name": "stdout",
     "output_type": "stream",
     "text": [
      "\u001b[1m1/1\u001b[0m \u001b[32m━━━━━━━━━━━━━━━━━━━━\u001b[0m\u001b[37m\u001b[0m \u001b[1m0s\u001b[0m 97ms/step\n"
     ]
    },
    {
     "data": {
      "text/plain": [
       "array([[2.1848738e-17, 1.9403633e-13, 5.3138209e-11, 9.7179764e-11,\n",
       "        1.7878405e-16, 2.8113258e-17, 8.0046308e-24, 1.0000000e+00,\n",
       "        1.3656869e-14, 2.8198192e-11],\n",
       "       [1.3489334e-12, 1.9100781e-08, 1.0000000e+00, 2.5822828e-14,\n",
       "        4.6643050e-17, 1.0121012e-21, 1.3572318e-14, 5.3609960e-15,\n",
       "        1.1299279e-16, 8.3710008e-18],\n",
       "       [2.6241302e-09, 9.9999809e-01, 1.3174875e-07, 9.3256591e-10,\n",
       "        6.1387101e-07, 1.4788034e-08, 9.9717937e-08, 9.0866342e-07,\n",
       "        7.6500456e-08, 3.4857447e-08],\n",
       "       [9.9999774e-01, 3.4073886e-11, 1.4166129e-10, 2.4812449e-10,\n",
       "        7.5127232e-10, 4.6713828e-09, 2.3057009e-06, 1.9834035e-11,\n",
       "        1.7151002e-09, 9.4147179e-09]], dtype=float32)"
      ]
     },
     "execution_count": 21,
     "metadata": {},
     "output_type": "execute_result"
    }
   ],
   "source": [
    "# Predict first 4 images in the test set\n",
    "model.predict(X_test[:4])"
   ]
  },
  {
   "cell_type": "code",
   "execution_count": 22,
   "id": "150d3eca-22b1-4974-9923-6df21f6340d3",
   "metadata": {},
   "outputs": [
    {
     "name": "stdout",
     "output_type": "stream",
     "text": [
      "\u001b[1m1/1\u001b[0m \u001b[32m━━━━━━━━━━━━━━━━━━━━\u001b[0m\u001b[37m\u001b[0m \u001b[1m0s\u001b[0m 28ms/step\n"
     ]
    },
    {
     "data": {
      "text/plain": [
       "array([1.        , 1.        , 0.99999994, 1.        ], dtype=float32)"
      ]
     },
     "execution_count": 22,
     "metadata": {},
     "output_type": "execute_result"
    }
   ],
   "source": [
    "sumarray = np.sum(model.predict(X_test[:4]), axis=1)\n",
    "sumarray"
   ]
  },
  {
   "cell_type": "code",
   "execution_count": 23,
   "id": "fb0aa315-6d01-4626-ae23-0c333f0cc803",
   "metadata": {},
   "outputs": [
    {
     "data": {
      "text/plain": [
       "array([7, 2, 1, 0], dtype=uint8)"
      ]
     },
     "execution_count": 23,
     "metadata": {},
     "output_type": "execute_result"
    }
   ],
   "source": [
    "# Actual results for first 4 images in test set\n",
    "y_test[:4]"
   ]
  },
  {
   "cell_type": "code",
   "execution_count": 24,
   "id": "866f9c2b-1e0d-45e5-91bd-d0c2f84bd159",
   "metadata": {},
   "outputs": [
    {
     "name": "stdout",
     "output_type": "stream",
     "text": [
      "\u001b[1m313/313\u001b[0m \u001b[32m━━━━━━━━━━━━━━━━━━━━\u001b[0m\u001b[37m\u001b[0m \u001b[1m1s\u001b[0m 4ms/step\n",
      "[[ 972    0    1    1    0    1    3    0    1    1]\n",
      " [   0 1132    1    0    0    1    0    1    0    0]\n",
      " [   0    0 1025    3    0    0    0    4    0    0]\n",
      " [   0    0    1 1004    0    4    0    0    1    0]\n",
      " [   0    0    1    0  971    0    1    0    1    8]\n",
      " [   1    0    1    4    0  884    2    0    0    0]\n",
      " [   3    4    1    0    1    5  944    0    0    0]\n",
      " [   0    1    3    0    0    0    0 1022    1    1]\n",
      " [   2    0    2    5    0    2    0    2  961    0]\n",
      " [   0    0    1    0    2    6    0    1    1  998]]\n"
     ]
    }
   ],
   "source": [
    "# Confusion Matrix\n",
    "test_predictions = model.predict(X_test)\n",
    "cm = confusion_matrix(y_test, np.argmax(test_predictions,axis=1))\n",
    "print(cm)"
   ]
  },
  {
   "cell_type": "markdown",
   "id": "ce05de05-e7fc-4a1c-a78b-13e38da25650",
   "metadata": {},
   "source": [
    "## 5. Loading and Preprocessing Handwritten Images for Model Prediction (Attempt 1)"
   ]
  },
  {
   "cell_type": "code",
   "execution_count": 25,
   "id": "66ffb6b7-54cc-4433-a095-f955c399f6ca",
   "metadata": {},
   "outputs": [],
   "source": [
    "path = r'C:\\Users\\kyles\\CareerFoundary\\Machine Learning\\Achievement 2\\06 Extra\\Handwriting Images' # YOUR PATH HERE"
   ]
  },
  {
   "cell_type": "code",
   "execution_count": 26,
   "id": "0be30a84-5fc8-475c-9281-97a3be72d2d8",
   "metadata": {},
   "outputs": [
    {
     "name": "stdout",
     "output_type": "stream",
     "text": [
      "Images shape: (10, 28, 28, 1)\n",
      "Labels shape: (10,)\n"
     ]
    }
   ],
   "source": [
    "# Define the list of numbers for the labels\n",
    "labels = list(range(10))\n",
    "\n",
    "# Initialise lists to stire the image data and labels\n",
    "images = []\n",
    "image_labels = []\n",
    "\n",
    "# Loop through all numbers and load corresponding images:\n",
    "for label in labels:\n",
    "    # Open the image\n",
    "    img = Image.open(os.path.join(path, f'{label} original.png'))\n",
    "\n",
    "    # Convert image to grayscale\n",
    "    img = img.convert('L') # 'L' mode is for grayscale\n",
    "\n",
    "    # Invert grayscale image to create a negative\n",
    "    img = Image.eval(img, lambda x: 255 - x)\n",
    "\n",
    "    # Resize the image to 28x28\n",
    "    newsize = (28, 28)\n",
    "    img_resized = img.resize(newsize)\n",
    "\n",
    "    # Convert image to Numpy array\n",
    "    img_array = np.asarray(img_resized)\n",
    "\n",
    "    # Normalize the image data to the range [0, 1]\n",
    "    img_array = img_array / 255.0\n",
    "    \n",
    "    # Reshape to match the CNN input format: (28, 28, 1)\n",
    "    img_array = img_array.reshape(28, 28, 1)\n",
    "\n",
    "    # Append the processed image and label to the respective lists\n",
    "    images.append(img_array)\n",
    "    image_labels.append(label)\n",
    "\n",
    "# Convert the lists to numpy arrays\n",
    "images = np.array(images)\n",
    "image_labels = np.array(image_labels)\n",
    "\n",
    "# Check the shapes of the images and labels\n",
    "print(\"Images shape:\", images.shape)\n",
    "print(\"Labels shape:\", image_labels.shape)  "
   ]
  },
  {
   "cell_type": "markdown",
   "id": "336c03a4-a019-4e7b-8248-c3116bef7fcc",
   "metadata": {},
   "source": [
    "Images shape should be (10, 28, 28, 1) for 10 images, each with a size of 28x28 pixels, with 1 channel (grayscale)"
   ]
  },
  {
   "cell_type": "code",
   "execution_count": 27,
   "id": "38f9a613-61ca-422e-88ed-febc20a8566a",
   "metadata": {},
   "outputs": [
    {
     "data": {
      "image/png": "[encoded data removed]",
      "text/plain": [
       "<Figure size 750x400 with 10 Axes>"
      ]
     },
     "metadata": {},
     "output_type": "display_data"
    }
   ],
   "source": [
    "# load images for a quick check\n",
    "num = 10\n",
    "images = images[:num]\n",
    "labels = image_labels[:num]\n",
    "\n",
    "num_row = 2\n",
    "num_col = 5\n",
    "\n",
    "# plot images\n",
    "fig, axes = plt.subplots(num_row, num_col, figsize=(1.5*num_col,2*num_row))\n",
    "for i in range(num):\n",
    "    ax = axes[i//num_col, i%num_col]\n",
    "    ax.imshow(images[i])#, cmap='gray')\n",
    "    ax.set_title('True Label: {}'.format(labels[i]))\n",
    "plt.tight_layout()\n",
    "plt.show()"
   ]
  },
  {
   "cell_type": "markdown",
   "id": "f228b62f-b98e-4805-a5f9-4a302fbcd13b",
   "metadata": {},
   "source": [
    "## 6. Running the Model on Handwritten Images (Attempt 1)"
   ]
  },
  {
   "cell_type": "code",
   "execution_count": 28,
   "id": "721aace1-1746-403f-a134-fb08880599e8",
   "metadata": {},
   "outputs": [
    {
     "name": "stdout",
     "output_type": "stream",
     "text": [
      "\u001b[1m1/1\u001b[0m \u001b[32m━━━━━━━━━━━━━━━━━━━━\u001b[0m\u001b[37m\u001b[0m \u001b[1m0s\u001b[0m 23ms/step\n"
     ]
    }
   ],
   "source": [
    "# Run the model's predictions on the handwritten data\n",
    "predictions = model.predict(images)"
   ]
  },
  {
   "cell_type": "code",
   "execution_count": 29,
   "id": "72354df8-b1bc-4b75-a802-aa921b69aeb5",
   "metadata": {},
   "outputs": [],
   "source": [
    "# Get the predicted class (the index of the maximum value in the output array)\n",
    "predicted_labels = np.argmax(predictions, axis=1)"
   ]
  },
  {
   "cell_type": "code",
   "execution_count": 30,
   "id": "bc8b8c66-9607-46bf-b394-d9690ba9fe54",
   "metadata": {},
   "outputs": [
    {
     "name": "stdout",
     "output_type": "stream",
     "text": [
      "image_labels shape: (10,)\n",
      "predicted_labels shape: (10,)\n"
     ]
    }
   ],
   "source": [
    "print('image_labels shape:', image_labels.shape)\n",
    "print('predicted_labels shape:', predicted_labels.shape)"
   ]
  },
  {
   "cell_type": "code",
   "execution_count": 31,
   "id": "89294b6a-fe2c-49b9-b202-c093b51296a2",
   "metadata": {},
   "outputs": [
    {
     "name": "stdout",
     "output_type": "stream",
     "text": [
      "Model accuracy on handwritten data: 40.00%\n"
     ]
    }
   ],
   "source": [
    "# Calculate accuracy\n",
    "\n",
    "from sklearn.metrics import accuracy_score\n",
    "\n",
    "accuracy = accuracy_score(image_labels, predicted_labels)\n",
    "print(f\"Model accuracy on handwritten data: {accuracy * 100:.2f}%\")"
   ]
  },
  {
   "cell_type": "code",
   "execution_count": 32,
   "id": "cb60797b-ae73-4e48-a92e-1c4212772c16",
   "metadata": {},
   "outputs": [
    {
     "name": "stdout",
     "output_type": "stream",
     "text": [
      "Image 0: Predicted = 3, Actual = 0\n",
      "Image 1: Predicted = 1, Actual = 1\n",
      "Image 2: Predicted = 2, Actual = 2\n",
      "Image 3: Predicted = 3, Actual = 3\n",
      "Image 4: Predicted = 7, Actual = 4\n",
      "Image 5: Predicted = 3, Actual = 5\n",
      "Image 6: Predicted = 5, Actual = 6\n",
      "Image 7: Predicted = 7, Actual = 7\n",
      "Image 8: Predicted = 3, Actual = 8\n",
      "Image 9: Predicted = 1, Actual = 9\n"
     ]
    }
   ],
   "source": [
    "# Display the predicted and true labels\n",
    "\n",
    "for i, (pred, actual) in enumerate(zip(predicted_labels, image_labels)):\n",
    "    print(f\"Image {i}: Predicted = {pred}, Actual = {actual}\")"
   ]
  },
  {
   "cell_type": "code",
   "execution_count": 33,
   "id": "d33c58f8-bdc0-4988-ac77-3bfd5e4af01f",
   "metadata": {},
   "outputs": [
    {
     "data": {
      "image/png": "[encoded data removed]",
      "text/plain": [
       "<Figure size 1000x500 with 10 Axes>"
      ]
     },
     "metadata": {},
     "output_type": "display_data"
    }
   ],
   "source": [
    "# Display predicted labels next to images\n",
    "num = 10\n",
    "images = images[:num]\n",
    "labels = predicted_labels[:num]\n",
    "\n",
    "num_row = 2\n",
    "num_col = 5\n",
    "\n",
    "# plot images\n",
    "fig, axes = plt.subplots(num_row, num_col, figsize=(2*num_col,2.5*num_row))\n",
    "for i in range(num):\n",
    "    ax = axes[i//num_col, i%num_col]\n",
    "    ax.imshow(images[i])#, cmap='gray')\n",
    "    ax.set_title('Predicted Label: {}'.format(labels[i]))\n",
    "plt.tight_layout()\n",
    "plt.show()"
   ]
  },
  {
   "cell_type": "markdown",
   "id": "cde49bed-e3f6-48e2-a6ea-9c1114abbadf",
   "metadata": {},
   "source": [
    "**Why is the model terrible at predicting the true labels of the written numbers?**\n",
    "\n",
    "I believe the model is struggling because the lines making up the numbers in the training data are all much thicker. This let the model tell more easily where the edges of each number were. My numbers were written very largely with a pen on some blank paper. Looking at the images above, this seems to have made my numbers' edges much thinner (which is made even worse by the resizing - as all the lines aren't as bright in the negative images)\n",
    "\n",
    "The above images were actually scans. i did this because photographs managed to capture light from the bottom left corner. I believe this fooled the model even worse as it came back with a 0% accuracy.\n",
    "\n",
    "Perhaps rewriting the images smaller or with a thicker marker will work better"
   ]
  },
  {
   "cell_type": "markdown",
   "id": "7f88bcfe-ca1e-4104-a887-0af3a11d9cbb",
   "metadata": {},
   "source": [
    "## 7. Loading and Preprocessing Handwritten Images for Model Prediction (Attempt 2)"
   ]
  },
  {
   "cell_type": "code",
   "execution_count": 34,
   "id": "5e54159b-e940-409b-a596-a013fc53ddfc",
   "metadata": {},
   "outputs": [
    {
     "name": "stdout",
     "output_type": "stream",
     "text": [
      "Images shape: (10, 28, 28, 1)\n",
      "Labels shape: (10,)\n"
     ]
    }
   ],
   "source": [
    "# Define the list of numbers for the labels\n",
    "labels = list(range(10))\n",
    "\n",
    "# Initialise lists to stire the image data and labels\n",
    "images_new = []\n",
    "image_labels_new = []\n",
    "\n",
    "# Loop through all numbers and load corresponding images:\n",
    "for label in labels:\n",
    "    # Open the image\n",
    "    img = Image.open(os.path.join(path, f'{label} thicker.png'))\n",
    "\n",
    "    # Convert image to grayscale\n",
    "    img = img.convert('L') # 'L' mode is for grayscale\n",
    "\n",
    "    # Invert grayscale image to create a negative\n",
    "    img = Image.eval(img, lambda x: 255 - x)\n",
    "\n",
    "    # Resize the image to 28x28\n",
    "    newsize = (28, 28)\n",
    "    img_resized = img.resize(newsize)\n",
    "\n",
    "    # Convert image to Numpy array\n",
    "    img_array = np.asarray(img_resized)\n",
    "\n",
    "    # Normalize the image data to the range [0, 1]\n",
    "    img_array = img_array / 255.0\n",
    "    \n",
    "    # Reshape to match the CNN input format: (28, 28, 1)\n",
    "    img_array = img_array.reshape(28, 28, 1)\n",
    "\n",
    "    # Append the processed image and label to the respective lists\n",
    "    images_new.append(img_array)\n",
    "    image_labels_new.append(label)\n",
    "\n",
    "# Convert the lists to numpy arrays\n",
    "images_new = np.array(images_new)\n",
    "image_labels_new = np.array(image_labels_new)\n",
    "\n",
    "# Check the shapes of the images and labels\n",
    "print(\"Images shape:\", images_new.shape)\n",
    "print(\"Labels shape:\", image_labels_new.shape)  "
   ]
  },
  {
   "cell_type": "markdown",
   "id": "d6c93654-e289-45a8-a651-b430fe368ea4",
   "metadata": {},
   "source": [
    "Images shape should be (10, 28, 28, 1) for 10 images, each with a size of 28x28 pixels, with 1 channel (grayscale)"
   ]
  },
  {
   "cell_type": "code",
   "execution_count": 35,
   "id": "11e6237c-340b-4317-b7e0-1afa2169a7dc",
   "metadata": {},
   "outputs": [
    {
     "data": {
      "image/png": "[encoded data removed]",
      "text/plain": [
       "<Figure size 750x400 with 10 Axes>"
      ]
     },
     "metadata": {},
     "output_type": "display_data"
    }
   ],
   "source": [
    "# load images for a quick check\n",
    "num = 10\n",
    "images = images_new[:num]\n",
    "labels = image_labels_new[:num]\n",
    "\n",
    "num_row = 2\n",
    "num_col = 5\n",
    "\n",
    "# plot images\n",
    "fig, axes = plt.subplots(num_row, num_col, figsize=(1.5*num_col,2*num_row))\n",
    "for i in range(num):\n",
    "    ax = axes[i//num_col, i%num_col]\n",
    "    ax.imshow(images[i])#, cmap='gray')\n",
    "    ax.set_title('True Label: {}'.format(labels[i]))\n",
    "plt.tight_layout()\n",
    "plt.show()"
   ]
  },
  {
   "cell_type": "markdown",
   "id": "addf2614-8ae1-4287-8d7c-3c82b84bfa36",
   "metadata": {},
   "source": [
    "## 8. Running the Model on Handwritten Images (Attempt 2)"
   ]
  },
  {
   "cell_type": "code",
   "execution_count": 36,
   "id": "4daffe82-b02d-4025-bda5-64e9a2bda127",
   "metadata": {},
   "outputs": [
    {
     "name": "stdout",
     "output_type": "stream",
     "text": [
      "\u001b[1m1/1\u001b[0m \u001b[32m━━━━━━━━━━━━━━━━━━━━\u001b[0m\u001b[37m\u001b[0m \u001b[1m0s\u001b[0m 20ms/step\n"
     ]
    }
   ],
   "source": [
    "# Run the model's predictions on the handwritten data\n",
    "predictions = model.predict(images_new)"
   ]
  },
  {
   "cell_type": "code",
   "execution_count": 37,
   "id": "8f417671-b1a7-430e-b79c-848c89133546",
   "metadata": {},
   "outputs": [],
   "source": [
    "# Get the predicted class (the index of the maximum value in the output array)\n",
    "predicted_labels_new = np.argmax(predictions, axis=1)"
   ]
  },
  {
   "cell_type": "code",
   "execution_count": 38,
   "id": "7f4ab1cc-35a1-40e1-830f-eb772955a190",
   "metadata": {},
   "outputs": [
    {
     "name": "stdout",
     "output_type": "stream",
     "text": [
      "image_labels shape: (10,)\n",
      "predicted_labels shape: (10,)\n"
     ]
    }
   ],
   "source": [
    "print('image_labels shape:', image_labels_new.shape)\n",
    "print('predicted_labels shape:', predicted_labels_new.shape)"
   ]
  },
  {
   "cell_type": "code",
   "execution_count": 39,
   "id": "d2a32b27-29f0-4ed8-abbb-da222f4d7efd",
   "metadata": {},
   "outputs": [
    {
     "name": "stdout",
     "output_type": "stream",
     "text": [
      "Model accuracy on handwritten data: 100.00%\n"
     ]
    }
   ],
   "source": [
    "# Calculate accuracy\n",
    "\n",
    "from sklearn.metrics import accuracy_score\n",
    "\n",
    "accuracy = accuracy_score(image_labels_new, predicted_labels_new)\n",
    "print(f\"Model accuracy on handwritten data: {accuracy * 100:.2f}%\")"
   ]
  },
  {
   "cell_type": "code",
   "execution_count": 40,
   "id": "28ef4f23-40b7-48f1-b918-3d82ab3c31e2",
   "metadata": {},
   "outputs": [
    {
     "name": "stdout",
     "output_type": "stream",
     "text": [
      "Image 0: Predicted = 0, Actual = 0\n",
      "Image 1: Predicted = 1, Actual = 1\n",
      "Image 2: Predicted = 2, Actual = 2\n",
      "Image 3: Predicted = 3, Actual = 3\n",
      "Image 4: Predicted = 4, Actual = 4\n",
      "Image 5: Predicted = 5, Actual = 5\n",
      "Image 6: Predicted = 6, Actual = 6\n",
      "Image 7: Predicted = 7, Actual = 7\n",
      "Image 8: Predicted = 8, Actual = 8\n",
      "Image 9: Predicted = 9, Actual = 9\n"
     ]
    }
   ],
   "source": [
    "# Display the predicted and true labels\n",
    "\n",
    "for i, (pred, actual) in enumerate(zip(predicted_labels_new, image_labels_new)):\n",
    "    print(f\"Image {i}: Predicted = {pred}, Actual = {actual}\")"
   ]
  },
  {
   "cell_type": "code",
   "execution_count": 41,
   "id": "a2bb6b11-bab1-47ef-a233-edcfeab664b7",
   "metadata": {},
   "outputs": [
    {
     "data": {
      "image/png": "[encoded data removed]",
      "text/plain": [
       "<Figure size 1000x400 with 10 Axes>"
      ]
     },
     "metadata": {},
     "output_type": "display_data"
    }
   ],
   "source": [
    "# Display predicted labels next to images\n",
    "num = 10\n",
    "images = images_new[:num]\n",
    "labels = predicted_labels_new[:num]\n",
    "\n",
    "num_row = 2\n",
    "num_col = 5\n",
    "\n",
    "# plot images\n",
    "fig, axes = plt.subplots(num_row, num_col, figsize=(2*num_col,2*num_row))\n",
    "for i in range(num):\n",
    "    ax = axes[i//num_col, i%num_col]\n",
    "    ax.imshow(images[i])#, cmap='gray')\n",
    "    ax.set_title('Predicted Label: {}'.format(labels[i]))\n",
    "plt.tight_layout()\n",
    "plt.show()"
   ]
  }
 ],
 "metadata": {
  "kernelspec": {
   "display_name": "Python 3 (ipykernel)",
   "language": "python",
   "name": "python3"
  },
  "language_info": {
   "codemirror_mode": {
    "name": "ipython",
    "version": 3
   },
   "file_extension": ".py",
   "mimetype": "text/x-python",
   "name": "python",
   "nbconvert_exporter": "python",
   "pygments_lexer": "ipython3",
   "version": "3.11.7"
  }
 },
 "nbformat": 4,
 "nbformat_minor": 5
}
